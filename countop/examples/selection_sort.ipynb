{
 "cells": [
  {
   "cell_type": "markdown",
   "metadata": {},
   "source": [
    "# Verify complexity of selection sort using `countop`"
   ]
  },
  {
   "cell_type": "code",
   "execution_count": 2,
   "metadata": {
    "collapsed": true
   },
   "outputs": [],
   "source": [
    "from countop import Integer\n",
    "import matplotlib.pyplot as plt\n",
    "import numpy as np\n",
    "%matplotlib inline"
   ]
  },
  {
   "cell_type": "code",
   "execution_count": 3,
   "metadata": {
    "collapsed": true
   },
   "outputs": [],
   "source": [
    "# Create a quick selection sort function\n",
    "def selection_sort(x):\n",
    "    n = len(x)\n",
    "    if n == 0 or n == 1:\n",
    "        return x\n",
    "    \n",
    "    for i in range(n - 1):\n",
    "        # Find the minimum element in x[i, .. ,n - 1] manually\n",
    "        imin = i\n",
    "        for j in range(i + 1, n):\n",
    "            if x[j] < x[imin]:\n",
    "                imin = j\n",
    "        \n",
    "        # Replace x[i] with x[imin]\n",
    "        temp = x[i]\n",
    "        x[i] = x[imin]\n",
    "        x[imin] = temp\n",
    "    return x"
   ]
  },
  {
   "cell_type": "code",
   "execution_count": 4,
   "metadata": {
    "collapsed": false
   },
   "outputs": [
    {
     "name": "stdout",
     "output_type": "stream",
     "text": [
      "Comparisons before sorting: 0\n",
      "Comparisons after sorting: 45\n"
     ]
    }
   ],
   "source": [
    "# Basic sorting example\n",
    "n = 10\n",
    "x = [Integer(j) for j in range(n, 0, -1)]\n",
    "Integer.reset_counts()\n",
    "print 'Comparisons before sorting: {}'.format(Integer.comparisons())\n",
    "selection_sort(x)\n",
    "print 'Comparisons after sorting: {}'.format(Integer.comparisons())"
   ]
  },
  {
   "cell_type": "code",
   "execution_count": 5,
   "metadata": {
    "collapsed": false
   },
   "outputs": [
    {
     "name": "stdout",
     "output_type": "stream",
     "text": [
      "Comparisons before sorting: 0\n",
      "max(x) = 10\n",
      "Comparisons after sorting: 9\n"
     ]
    }
   ],
   "source": [
    "# Basic max operation\n",
    "Integer.reset_counts()\n",
    "print 'Comparisons before sorting: {}'.format(Integer.comparisons())\n",
    "print 'max(x) = {}'.format(max(x))\n",
    "print 'Comparisons after sorting: {}'.format(Integer.comparisons())"
   ]
  },
  {
   "cell_type": "code",
   "execution_count": 6,
   "metadata": {
    "collapsed": false
   },
   "outputs": [],
   "source": [
    "# Obtain number of comparisons for various input sizes\n",
    "exp_array = np.arange(0, 12, 1)\n",
    "n_array = 2**exp_array\n",
    "comp_array = np.zeros(len(n_array), int)\n",
    "for i, n in enumerate(n_array):\n",
    "    Integer.reset_counts()\n",
    "    selection_sort([Integer(j) for j in range(n, 0, -1)])\n",
    "    comp_array[i] = Integer.comparisons()"
   ]
  },
  {
   "cell_type": "code",
   "execution_count": 7,
   "metadata": {
    "collapsed": false
   },
   "outputs": [
    {
     "data": {
      "image/png": "[encoded data removed]",
      "text/plain": [
       "<matplotlib.figure.Figure at 0x1058c5950>"
      ]
     },
     "metadata": {},
     "output_type": "display_data"
    }
   ],
   "source": [
    "# Plot number of comparisons against input size\n",
    "plt.figure(1)\n",
    "plt.hold(True)\n",
    "plt.plot(n_array, comp_array, 'o')\n",
    "plt.plot(n_array, 0.5*n_array*n_array, 'k--')\n",
    "plt.legend(('# Comparisons', '0.5 * n^2'))\n",
    "plt.xlabel('Input size (n)')\n",
    "plt.ylabel('Number of comparisons')\n",
    "plt.title('Selection sort complexity')\n",
    "plt.grid(True)"
   ]
  }
 ],
 "metadata": {
  "kernelspec": {
   "display_name": "Python 2",
   "language": "python",
   "name": "python2"
  },
  "language_info": {
   "codemirror_mode": {
    "name": "ipython",
    "version": 2
   },
   "file_extension": ".py",
   "mimetype": "text/x-python",
   "name": "python",
   "nbconvert_exporter": "python",
   "pygments_lexer": "ipython2",
   "version": "2.7.11"
  }
 },
 "nbformat": 4,
 "nbformat_minor": 0
}
